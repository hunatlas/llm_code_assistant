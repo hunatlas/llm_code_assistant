{
 "cells": [
  {
   "cell_type": "markdown",
   "id": "b8447425-6414-455f-88de-e3a125a72bef",
   "metadata": {},
   "source": [
    "# Code Assistant\n",
    "\n",
    "The goal of the demo is to build a code assistant using Langgraph that is able to create a function based on user prompt and recursively improve it until it can be run."
   ]
  },
  {
   "cell_type": "code",
   "execution_count": 1,
   "id": "806dbe31-b5a2-40a8-84b0-bbf1875639d9",
   "metadata": {},
   "outputs": [
    {
     "name": "stdout",
     "output_type": "stream",
     "text": [
      "Note: you may need to restart the kernel to use updated packages.\n"
     ]
    },
    {
     "name": "stderr",
     "output_type": "stream",
     "text": [
      "\n",
      "[notice] A new release of pip is available: 24.0 -> 24.3.1\n",
      "[notice] To update, run: python.exe -m pip install --upgrade pip\n"
     ]
    }
   ],
   "source": [
    "%pip install --quiet -U langgraph langchain_openai langchain_community langchain_core"
   ]
  },
  {
   "cell_type": "markdown",
   "id": "b9115d5b-06eb-4846-ad8f-58514db42c8b",
   "metadata": {},
   "source": [
    "# Setup API key and LLM model"
   ]
  },
  {
   "cell_type": "code",
   "execution_count": 2,
   "id": "a748e8d3-68cc-437d-bb9b-e613c097dd56",
   "metadata": {},
   "outputs": [
    {
     "name": "stdin",
     "output_type": "stream",
     "text": [
      "OPENAI_API_KEY:  ········\n"
     ]
    }
   ],
   "source": [
    "import os, getpass\n",
    "\n",
    "def _set_env(var: str):\n",
    "    if not os.environ.get(var):\n",
    "        os.environ[var] = getpass.getpass(f\"{var}: \")\n",
    "\n",
    "_set_env(\"OPENAI_API_KEY\")"
   ]
  },
  {
   "cell_type": "code",
   "execution_count": 3,
   "id": "a20711a8-d06d-414e-b1f3-a322ab129132",
   "metadata": {},
   "outputs": [],
   "source": [
    "from langchain_openai import ChatOpenAI\n",
    "llm = ChatOpenAI(model=\"gpt-4o\", temperature=0)"
   ]
  },
  {
   "cell_type": "markdown",
   "id": "b80df989-9965-4ace-a857-039bd684ce6d",
   "metadata": {},
   "source": [
    "# Create the nodes"
   ]
  },
  {
   "cell_type": "markdown",
   "id": "9f82c4a8-c604-47fb-8822-8a24732daff5",
   "metadata": {},
   "source": [
    "## Code generation node"
   ]
  }
 ],
 "metadata": {
  "kernelspec": {
   "display_name": "Python 3 (ipykernel)",
   "language": "python",
   "name": "python3"
  },
  "language_info": {
   "codemirror_mode": {
    "name": "ipython",
    "version": 3
   },
   "file_extension": ".py",
   "mimetype": "text/x-python",
   "name": "python",
   "nbconvert_exporter": "python",
   "pygments_lexer": "ipython3",
   "version": "3.12.1"
  }
 },
 "nbformat": 4,
 "nbformat_minor": 5
}
