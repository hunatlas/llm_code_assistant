{
 "cells": [
  {
   "cell_type": "markdown",
   "id": "b8447425-6414-455f-88de-e3a125a72bef",
   "metadata": {},
   "source": [
    "# Code Assistant\n",
    "\n",
    "The goal of the demo is to build a code assistant using Langgraph that is able to create a function based on user prompt and recursively improve it until it can be run."
   ]
  },
  {
   "cell_type": "code",
   "execution_count": 1,
   "id": "806dbe31-b5a2-40a8-84b0-bbf1875639d9",
   "metadata": {},
   "outputs": [
    {
     "name": "stdout",
     "output_type": "stream",
     "text": [
      "Note: you may need to restart the kernel to use updated packages.\n"
     ]
    },
    {
     "name": "stderr",
     "output_type": "stream",
     "text": [
      "\n",
      "[notice] A new release of pip is available: 24.0 -> 24.3.1\n",
      "[notice] To update, run: python.exe -m pip install --upgrade pip\n"
     ]
    }
   ],
   "source": [
    "%pip install --quiet -U langgraph langchain_openai langchain_community langchain_core"
   ]
  },
  {
   "cell_type": "markdown",
   "id": "6a3614df-ff8e-4a30-a0db-e6b1104257b9",
   "metadata": {},
   "source": [
    "## Setup API key and LLM model"
   ]
  },
  {
   "cell_type": "code",
   "execution_count": 2,
   "id": "a748e8d3-68cc-437d-bb9b-e613c097dd56",
   "metadata": {},
   "outputs": [
    {
     "name": "stdin",
     "output_type": "stream",
     "text": [
      "OPENAI_API_KEY:  ········\n"
     ]
    }
   ],
   "source": [
    "import os, getpass\n",
    "\n",
    "def _set_env(var: str):\n",
    "    if not os.environ.get(var):\n",
    "        os.environ[var] = getpass.getpass(f\"{var}: \")\n",
    "\n",
    "_set_env(\"OPENAI_API_KEY\")"
   ]
  },
  {
   "cell_type": "code",
   "execution_count": 45,
   "id": "a20711a8-d06d-414e-b1f3-a322ab129132",
   "metadata": {},
   "outputs": [],
   "source": [
    "from langchain_openai import ChatOpenAI\n",
    "llm = ChatOpenAI(model=\"gpt-4o\", temperature=0)"
   ]
  },
  {
   "cell_type": "code",
   "execution_count": 61,
   "id": "e8a3665b-41d1-4b0b-969a-4d7b15e4054c",
   "metadata": {},
   "outputs": [],
   "source": [
    "MAX_ITERATIONS = 3"
   ]
  },
  {
   "cell_type": "markdown",
   "id": "e5dfa6a6-32ac-4ff7-a26a-825226e9a2ef",
   "metadata": {},
   "source": [
    "## Create the nodes"
   ]
  },
  {
   "cell_type": "markdown",
   "id": "95683844-1bfe-4f12-bc02-2c2045611ad1",
   "metadata": {},
   "source": [
    "### Code generation"
   ]
  },
  {
   "cell_type": "code",
   "execution_count": 78,
   "id": "1fcca743-6ea2-4476-a63e-34ce396d9a6d",
   "metadata": {},
   "outputs": [],
   "source": [
    "from pydantic import BaseModel, Field\n",
    "\n",
    "# Code data model\n",
    "class Code(BaseModel):\n",
    "    prefix: str = Field(description=\"Description of the code generating task.\")\n",
    "    imports: str = Field(description=\"Import statements.\")\n",
    "    code: str = Field(description=\"Code block.\")\n",
    "\n",
    "# Initial system and code generation prompt\n",
    "\n",
    "system_prompt = \"\"\"You are an experienced Python software developer. You help with function implementation. Always create your code in Python.\"\"\"\n",
    "\n",
    "code_prompt = \"\"\"Please help implementing a function based on the prompt provided to you.\n",
    "Here are the details of the prompt: \\nDescription of the function: {task}\\nInput parameters: {params}\\nReturn parameter: {result}\\n\n",
    "Ensure any code you provide can be executed with all imports. Structure your answer with a description of the function, the list of imports, and the functioning code block.\"\"\"\n",
    "\n",
    "# Create agent\n",
    "llm = ChatOpenAI(model=\"gpt-4o\", temperature=0)\n",
    "llm = llm.with_structured_output(Code)"
   ]
  },
  {
   "cell_type": "code",
   "execution_count": 47,
   "id": "39b34845-d0d8-4321-b72e-4da1e706fea7",
   "metadata": {},
   "outputs": [],
   "source": [
    "from langchain_core.messages import AIMessage, HumanMessage, SystemMessage"
   ]
  },
  {
   "cell_type": "markdown",
   "id": "f8a49902-23fb-416d-9384-39d4b707596c",
   "metadata": {},
   "source": [
    "#### Test run of coding assistant"
   ]
  },
  {
   "cell_type": "code",
   "execution_count": 80,
   "id": "0f9c8c2c-6736-482b-9410-fd7c0f557ba0",
   "metadata": {},
   "outputs": [
    {
     "data": {
      "text/plain": [
       "Code(prefix='This function calculates the area of a circle given its radius. The formula to calculate the area of a circle is A = πr², where A is the area and r is the radius of the circle. The function takes a single input parameter, r, which is the radius of the circle, and returns the area as a float.', imports='import math', code='def calculate_circle_area(r: float) -> float:\\n    return math.pi * r ** 2')"
      ]
     },
     "execution_count": 80,
     "metadata": {},
     "output_type": "execute_result"
    }
   ],
   "source": [
    "task = \"Help me implement a function that calculates the area of a circle.\"\n",
    "params = \"r: float\"\n",
    "result =  \"area of circle as a float\"\n",
    "\n",
    "circle_area_prompt = code_prompt.format(task=task, params=params, result=result)\n",
    "\n",
    "circle_area_function = llm.invoke([SystemMessage(content=system_prompt)] + [HumanMessage(content=circle_area_prompt)])\n",
    "circle_area_function"
   ]
  },
  {
   "cell_type": "markdown",
   "id": "9c96820a-7637-410d-a88a-bda430e3ecf8",
   "metadata": {},
   "source": [
    "#### Create graph state"
   ]
  },
  {
   "cell_type": "code",
   "execution_count": 48,
   "id": "4a9d3ade-fcb9-4876-a7df-52e06f1f0b9b",
   "metadata": {},
   "outputs": [],
   "source": [
    "from typing import List, Annotated\n",
    "from typing_extensions import TypedDict\n",
    "from operator import add\n",
    "\n",
    "class GraphState(TypedDict):\n",
    "    messages: Annotated[List[AIMessage | HumanMessage | SystemMessage], add] \n",
    "    error: int\n",
    "    generation: Code\n",
    "    iterations:int"
   ]
  },
  {
   "cell_type": "markdown",
   "id": "7b62114a-40a6-45cb-9a29-c37554bba461",
   "metadata": {},
   "source": [
    "#### Code generation node"
   ]
  },
  {
   "cell_type": "code",
   "execution_count": 60,
   "id": "4fa34887-813d-4685-a736-e594b9738480",
   "metadata": {},
   "outputs": [],
   "source": [
    "def generate_code(state: GraphState):\n",
    "    \n",
    "    print(\"---GENERATING CODE SOLUTION---\")\n",
    "\n",
    "    #error = state[\"error\"]\n",
    "    iterations = state[\"iterations\"]\n",
    "\n",
    "    solution = llm.invoke(state[\"messages\"])\n",
    "\n",
    "    ai_message = AIMessage(content=\"prefix= {}, imports= {}, code= {}\".format(solution.prefix, solution.imports, solution.code))\n",
    "    iterations += 1\n",
    "\n",
    "    return {\"messages\": [ai_message], \"generation\": solution, \"iterations\": iterations}"
   ]
  },
  {
   "cell_type": "markdown",
   "id": "ea31cb00-c5d8-44b5-8a90-4b56156dbb93",
   "metadata": {},
   "source": [
    "#### Code checking node"
   ]
  },
  {
   "cell_type": "code",
   "execution_count": 67,
   "id": "afaa92c4-5984-4e84-b9ef-bde3b4adfa0a",
   "metadata": {},
   "outputs": [],
   "source": [
    "def check_code(state: GraphState):\n",
    "\n",
    "    print(\"---CHECKING CODE SOLUTION---\")\n",
    "\n",
    "    solution_imports = state[\"generation\"].imports\n",
    "    solution_code = state[\"generation\"].code\n",
    "\n",
    "    update_message = \"Please try again to create the solution. Take into consideration the error message and follow the initial user prompt.\"\n",
    "\n",
    "    try:\n",
    "        exec(solution_imports)\n",
    "    except Exception as e:\n",
    "        print(\"---CODE IMPORT CHECK: FAILED---\")\n",
    "        error_message = HumanMessage(content=\"Your solution failed the import test: {}\\n{}. \".format(e, update_message))\n",
    "        return {\"messages\": [error_message], \"error\" : 1}\n",
    "\n",
    "    try:\n",
    "        exec(solution_imports + \"\\n\" + solution_code)\n",
    "    except Exception as e:\n",
    "        print(\"---CODE CHECK: FAILED---\")\n",
    "        error_message = HumanMessage(content=\"Your solution failed the code execution test: {}\\n{}\".format(e, update_message))\n",
    "        return {\"messages\": [error_message], \"error\" : 1}\n",
    "\n",
    "    print(\"---NO CODE TEST FAILURES---\")\n",
    "    return {\"error\": 0}\n"
   ]
  },
  {
   "cell_type": "markdown",
   "id": "f87cc5e7-4bb0-4c11-8b37-66f0a3b248c3",
   "metadata": {},
   "source": [
    "#### Conditional edges"
   ]
  },
  {
   "cell_type": "code",
   "execution_count": 68,
   "id": "c34fbf89-650a-4416-a40d-66b71fa08013",
   "metadata": {},
   "outputs": [],
   "source": [
    "def finish(state: GraphState):\n",
    "\n",
    "    if state[\"error\"] == 0 or state[\"iterations\"] == MAX_ITERATIONS:\n",
    "        print(\"---DECISION: FINISH---\")\n",
    "        return \"END\"\n",
    "    else:\n",
    "        print(\"---DECISION: RE-TRY SOLUTION---\")\n",
    "        return \"generate_code\""
   ]
  },
  {
   "cell_type": "markdown",
   "id": "f7ad2056-b27a-44d8-9f51-4a088a387af6",
   "metadata": {},
   "source": [
    "## Create the graph"
   ]
  },
  {
   "cell_type": "code",
   "execution_count": 74,
   "id": "9efccfbb-1f52-47f1-aa73-aecc7d318dab",
   "metadata": {},
   "outputs": [
    {
     "data": {
      "image/png": "[encoded data removed]",
      "text/plain": [
       "<IPython.core.display.Image object>"
      ]
     },
     "metadata": {},
     "output_type": "display_data"
    }
   ],
   "source": [
    "from IPython.display import Image, display\n",
    "from langgraph.graph import START, END, StateGraph\n",
    "from langgraph.checkpoint.memory import MemorySaver\n",
    "\n",
    "builder = StateGraph(GraphState)\n",
    "\n",
    "builder.add_node(\"generate_code\", generate_code)\n",
    "builder.add_node(\"check_code\", check_code)\n",
    "\n",
    "builder.add_edge(START, \"generate_code\")\n",
    "builder.add_edge(\"generate_code\", \"check_code\")\n",
    "builder.add_conditional_edges(\"check_code\", finish, {\"generate_code\": \"generate_code\", \"END\": END})\n",
    "\n",
    "graph = builder.compile()\n",
    "\n",
    "display(Image(graph.get_graph(xray=1).draw_mermaid_png()))"
   ]
  },
  {
   "cell_type": "code",
   "execution_count": 81,
   "id": "512a0a93-2bec-4cba-999f-6f66fa671829",
   "metadata": {},
   "outputs": [
    {
     "name": "stdout",
     "output_type": "stream",
     "text": [
      "---GENERATING CODE SOLUTION---\n",
      "---CHECKING CODE SOLUTION---\n",
      "---NO CODE TEST FAILURES---\n",
      "---DECISION: FINISH---\n"
     ]
    },
    {
     "data": {
      "text/plain": [
       "{'messages': [SystemMessage(content='You are an experienced Python software developer. You help with function implementation. Always create your code in Python.', additional_kwargs={}, response_metadata={}),\n",
       "  HumanMessage(content='Please help implementing a function based on the prompt provided to you.\\nHere are the details of the prompt: \\nDescription of the function: Help me implement a function that calculates the area of a circle.\\nInput parameters: r: float\\nReturn parameter: area of circle as a float\\n\\nEnsure any code you provide can be executed with all imports. Structure your answer with a description of the function, the list of imports, and the functioning code block.', additional_kwargs={}, response_metadata={}),\n",
       "  AIMessage(content='prefix= This function calculates the area of a circle given its radius., imports= import math, code= def calculate_circle_area(r: float) -> float:\\n    return math.pi * (r ** 2)', additional_kwargs={}, response_metadata={})],\n",
       " 'error': 0,\n",
       " 'generation': Code(prefix='This function calculates the area of a circle given its radius.', imports='import math', code='def calculate_circle_area(r: float) -> float:\\n    return math.pi * (r ** 2)'),\n",
       " 'iterations': 1}"
      ]
     },
     "execution_count": 81,
     "metadata": {},
     "output_type": "execute_result"
    }
   ],
   "source": [
    "graph_result = graph.invoke({\"messages\": [SystemMessage(content=system_prompt)] + [HumanMessage(content=circle_area_prompt)],\n",
    "                            \"iterations\": 0})\n",
    "graph_result"
   ]
  },
  {
   "cell_type": "code",
   "execution_count": 90,
   "id": "92bb06e8-8055-4043-b231-caff568a2927",
   "metadata": {},
   "outputs": [
    {
     "name": "stdout",
     "output_type": "stream",
     "text": [
      "---GENERATING CODE SOLUTION---\n",
      "---CHECKING CODE SOLUTION---\n",
      "---CODE IMPORT CHECK: FAILED---\n",
      "---DECISION: RE-TRY SOLUTION---\n",
      "---GENERATING CODE SOLUTION---\n",
      "---CHECKING CODE SOLUTION---\n",
      "---NO CODE TEST FAILURES---\n",
      "---DECISION: FINISH---\n"
     ]
    }
   ],
   "source": [
    "task = \"Write a function that imports module X It uses X.add() to add two numbers.\"\n",
    "params = \"x: int, y: int\"\n",
    "result =  \"x+y\"\n",
    "\n",
    "test_prompt = code_prompt.format(task=task, params=params, result=result)\n",
    "\n",
    "graph_result = graph.invoke({\"messages\": [SystemMessage(content=system_prompt)] + [HumanMessage(content=test_prompt)],\n",
    "                            \"iterations\": 0})"
   ]
  },
  {
   "cell_type": "code",
   "execution_count": 91,
   "id": "cfd6dba9-ed4e-4fa4-a789-04b996273931",
   "metadata": {},
   "outputs": [
    {
     "data": {
      "text/plain": [
       "{'messages': [SystemMessage(content='You are an experienced Python software developer. You help with function implementation. Always create your code in Python.', additional_kwargs={}, response_metadata={}),\n",
       "  HumanMessage(content='Please help implementing a function based on the prompt provided to you.\\nHere are the details of the prompt: \\nDescription of the function: Write a function that imports module X It uses X.add() to add two numbers.\\nInput parameters: x: int, y: int\\nReturn parameter: x+y\\n\\nEnsure any code you provide can be executed with all imports. Structure your answer with a description of the function, the list of imports, and the functioning code block.', additional_kwargs={}, response_metadata={}),\n",
       "  AIMessage(content=\"prefix= This function imports a module named 'X' and uses its 'add' method to add two numbers. The function takes two integer inputs, 'x' and 'y', and returns their sum using the 'add' method from module 'X'., imports= import X, code= def add_numbers(x: int, y: int) -> int:\\n    return X.add(x, y)\", additional_kwargs={}, response_metadata={}),\n",
       "  HumanMessage(content=\"Your solution failed the import test: No module named 'X'\\nPlease try again to create the solution. Take into consideration the error message and follow the initial user prompt.. \", additional_kwargs={}, response_metadata={}),\n",
       "  AIMessage(content=\"prefix= This function imports a module named 'X' and uses its 'add' method to add two numbers. The function takes two integer inputs, 'x' and 'y', and returns their sum using the 'add' method from module 'X'., imports= # Assuming module X is a placeholder for an actual module that provides an add function.\\n# For demonstration purposes, let's create a mock module X with an add function.\\n\\nclass X:\\n    @staticmethod\\n    def add(a, b):\\n        return a + b, code= def add_numbers(x: int, y: int) -> int:\\n    return X.add(x, y)\", additional_kwargs={}, response_metadata={})],\n",
       " 'error': 0,\n",
       " 'generation': Code(prefix=\"This function imports a module named 'X' and uses its 'add' method to add two numbers. The function takes two integer inputs, 'x' and 'y', and returns their sum using the 'add' method from module 'X'.\", imports=\"# Assuming module X is a placeholder for an actual module that provides an add function.\\n# For demonstration purposes, let's create a mock module X with an add function.\\n\\nclass X:\\n    @staticmethod\\n    def add(a, b):\\n        return a + b\", code='def add_numbers(x: int, y: int) -> int:\\n    return X.add(x, y)'),\n",
       " 'iterations': 2}"
      ]
     },
     "execution_count": 91,
     "metadata": {},
     "output_type": "execute_result"
    }
   ],
   "source": [
    "graph_result"
   ]
  },
  {
   "cell_type": "code",
   "execution_count": null,
   "id": "d2427b88-13d6-4963-bdc0-dea025245add",
   "metadata": {},
   "outputs": [],
   "source": []
  }
 ],
 "metadata": {
  "kernelspec": {
   "display_name": "Python 3 (ipykernel)",
   "language": "python",
   "name": "python3"
  },
  "language_info": {
   "codemirror_mode": {
    "name": "ipython",
    "version": 3
   },
   "file_extension": ".py",
   "mimetype": "text/x-python",
   "name": "python",
   "nbconvert_exporter": "python",
   "pygments_lexer": "ipython3",
   "version": "3.12.1"
  }
 },
 "nbformat": 4,
 "nbformat_minor": 5
}
